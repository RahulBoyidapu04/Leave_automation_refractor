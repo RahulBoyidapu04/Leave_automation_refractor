{
 "cells": [
  {
   "cell_type": "markdown",
   "id": "d340f5fb",
   "metadata": {},
   "source": [
    "# Display Associates and Their Managers\n",
    "\n",
    "This notebook displays all associates along with their manager information using SQLAlchemy."
   ]
  },
  {
   "cell_type": "markdown",
   "id": "7985e1eb",
   "metadata": {},
   "source": [
    "## 1. Import Required Modules\n",
    "\n",
    "Import `SessionLocal` from `app.database` and `User` from `app.models`."
   ]
  },
  {
   "cell_type": "code",
   "execution_count": null,
   "id": "61612bdf",
   "metadata": {},
   "outputs": [],
   "source": [
    "from app.database import SessionLocal\n",
    "from app.models import User"
   ]
  },
  {
   "cell_type": "markdown",
   "id": "6e3f8c29",
   "metadata": {},
   "source": [
    "## 2. Initialize Database Session\n",
    "\n",
    "Create a new database session using `SessionLocal`."
   ]
  },
  {
   "cell_type": "code",
   "execution_count": null,
   "id": "83a54a0c",
   "metadata": {},
   "outputs": [],
   "source": [
    "db = SessionLocal()"
   ]
  },
  {
   "cell_type": "markdown",
   "id": "5e5d51e2",
   "metadata": {},
   "source": [
    "## 3. Query Associates and Their Managers\n",
    "\n",
    "Query all users with the role `'associate'` and for each, find their manager using the `reports_to_id` field."
   ]
  },
  {
   "cell_type": "code",
   "execution_count": null,
   "id": "1fa2e5a7",
   "metadata": {},
   "outputs": [],
   "source": [
    "associates = db.query(User).filter(User.role == 'associate').all()\n",
    "associate_manager_list = []\n",
    "for user in associates:\n",
    "    manager = db.query(User).filter(User.id == user.reports_to_id).first() if user.reports_to_id else None\n",
    "    associate_manager_list.append({\n",
    "        \"id\": user.id,\n",
    "        \"username\": user.username,\n",
    "        \"manager_id\": user.reports_to_id,\n",
    "        \"manager_username\": manager.username if manager else \"\"\n",
    "    })"
   ]
  },
  {
   "cell_type": "markdown",
   "id": "ea11af6e",
   "metadata": {},
   "source": [
    "## 4. Display Associate-Manager Mapping\n",
    "\n",
    "Print a formatted table showing associate ID, username, manager ID, and manager username."
   ]
  },
  {
   "cell_type": "code",
   "execution_count": null,
   "id": "aeef4b98",
   "metadata": {},
   "outputs": [],
   "source": [
    "print(f\"{'ID':<5} {'Associate':<15} {'Manager ID':<10} {'Manager Username'}\")\n",
    "print(\"-\" * 45)\n",
    "for entry in associate_manager_list:\n",
    "    print(f\"{entry['id']:<5} {entry['username']:<15} {entry['manager_id'] or '':<10} {entry['manager_username']}\")"
   ]
  },
  {
   "cell_type": "markdown",
   "id": "b0f57307",
   "metadata": {},
   "source": [
    "## 5. Close Database Session\n",
    "\n",
    "Close the database session after all queries and prints are complete."
   ]
  },
  {
   "cell_type": "code",
   "execution_count": null,
   "id": "9491fd8b",
   "metadata": {},
   "outputs": [],
   "source": [
    "db.close()"
   ]
  }
 ],
 "metadata": {
  "language_info": {
   "name": "python"
  }
 },
 "nbformat": 4,
 "nbformat_minor": 5
}
